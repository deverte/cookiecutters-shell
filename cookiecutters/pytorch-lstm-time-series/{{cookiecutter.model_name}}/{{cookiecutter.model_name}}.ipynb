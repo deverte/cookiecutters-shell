{
 "cells": [
  {
   "cell_type": "markdown",
   "metadata": {},
   "source": [
    "# {{cookiecutter.model_name}}\n",
    "\n",
    "LSTM-based neural network model for time series prediction."
   ]
  },
  {
   "cell_type": "code",
   "execution_count": null,
   "metadata": {},
   "outputs": [],
   "source": [
    "%load_ext autoreload\n",
    "%autoreload 2\n",
    "\n",
    "import torch\n",
    "import torch.nn as nn\n",
    "import numpy as np\n",
    "import pandas as pd\n",
    "import plotly.graph_objects as go\n",
    "# User modules\n",
    "import utils\n",
    "import model as ml\n",
    "from conversion import Converter"
   ]
  },
  {
   "cell_type": "code",
   "execution_count": null,
   "metadata": {},
   "outputs": [],
   "source": [
    "device = torch.device('cuda:0' if torch.cuda.is_available() else 'cpu')\n",
    "device.type"
   ]
  },
  {
   "cell_type": "markdown",
   "metadata": {},
   "source": [
    "## Loading a Dataset\n",
    "\n",
    "Some useful data loaders and handlers:\n",
    "* [pandas](https://pandas.pydata.org/docs/user_guide/io.html)"
   ]
  },
  {
   "cell_type": "code",
   "execution_count": null,
   "metadata": {},
   "outputs": [],
   "source": [
    "dataset = utils.load_dataset()"
   ]
  },
  {
   "cell_type": "markdown",
   "metadata": {},
   "source": [
    "Some useful plotters:\n",
    "* [Matplotlib](https://matplotlib.org/)\n",
    "* [Plotly](https://plotly.com/python/)\n",
    "* [bokeh](https://docs.bokeh.org/en/latest/index.html)"
   ]
  },
  {
   "cell_type": "code",
   "execution_count": null,
   "metadata": {},
   "outputs": [],
   "source": [
    "utils.plot(go.Scatter(x=dataset.index, y=dataset['column_name'].values.astype('float')))"
   ]
  },
  {
   "cell_type": "markdown",
   "metadata": {},
   "source": [
    "## Preparing a Data\n",
    "\n",
    "Some useful data preparation libs:\n",
    "* [NumPy](https://numpy.org/)\n",
    "* [SciPy](https://www.scipy.org/)\n",
    "* [scikit-learn](https://scikit-learn.org/stable/)\n",
    "* [statsmodels](https://www.statsmodels.org/stable/index.html)"
   ]
  },
  {
   "cell_type": "code",
   "execution_count": null,
   "metadata": {},
   "outputs": [],
   "source": [
    "converter = Converter(feature_range=(-1, 1))"
   ]
  },
  {
   "cell_type": "code",
   "execution_count": null,
   "metadata": {},
   "outputs": [],
   "source": [
    "TEST_DATA_SIZE: int = None\n",
    "\n",
    "train_data, test_data = utils.split_train_test(\n",
    "    dataset['column_name'].values.astype('float'),\n",
    "    TEST_DATA_SIZE\n",
    ")"
   ]
  },
  {
   "cell_type": "code",
   "execution_count": null,
   "metadata": {},
   "outputs": [],
   "source": [
    "train_data_normalized = converter.forward(train_data)"
   ]
  },
  {
   "cell_type": "code",
   "execution_count": null,
   "metadata": {},
   "outputs": [],
   "source": [
    "TRAIN_WINDOW_SIZE: int = None\n",
    "\n",
    "train_inout_seq = utils.create_inout_sequences(train_data_normalized, TRAIN_WINDOW_SIZE)"
   ]
  },
  {
   "cell_type": "markdown",
   "metadata": {},
   "source": [
    "## Model Creation\n",
    "\n",
    "See:\n",
    "* [Module](https://pytorch.org/docs/stable/nn.html#module)\n",
    "* [Loss functions](https://pytorch.org/docs/stable/nn.html#loss-functions)\n",
    "* [Optimizers](https://pytorch.org/docs/stable/optim.html#algorithms)"
   ]
  },
  {
   "cell_type": "code",
   "execution_count": null,
   "metadata": {},
   "outputs": [],
   "source": [
    "model = ml.LSTM().to(device)\n",
    "loss_function = nn.MSELoss().to(device)\n",
    "optimizer = torch.optim.Adam(model.parameters(), lr=0.001)"
   ]
  },
  {
   "cell_type": "markdown",
   "metadata": {},
   "source": [
    "## Model Training"
   ]
  },
  {
   "cell_type": "code",
   "execution_count": null,
   "metadata": {},
   "outputs": [],
   "source": [
    "epochs, loss = utils.train_model(model, device, train_inout_seq, loss_function, optimizer, epochs=150)"
   ]
  },
  {
   "cell_type": "code",
   "execution_count": null,
   "metadata": {},
   "outputs": [],
   "source": [
    "utils.plot_loss(go.Scatter(x=epochs, y=loss))"
   ]
  },
  {
   "cell_type": "markdown",
   "metadata": {},
   "source": [
    "## Predictions"
   ]
  },
  {
   "cell_type": "code",
   "execution_count": null,
   "metadata": {},
   "outputs": [],
   "source": [
    "FUTURE_PREDICTIONS_SIZE: int = None\n",
    "\n",
    "test_inputs = train_data_normalized[-TRAIN_WINDOW_SIZE:].tolist()"
   ]
  },
  {
   "cell_type": "code",
   "execution_count": null,
   "metadata": {},
   "outputs": [],
   "source": [
    "model.eval()\n",
    "\n",
    "predictions = ml.predict(\n",
    "    model, device, test_inputs, future_predictions_size=FUTURE_PREDICTIONS_SIZE,\n",
    "    train_window_size=TRAIN_WINDOW_SIZE\n",
    ")\n",
    "\n",
    "predictions = converter.backward(predictions)"
   ]
  },
  {
   "cell_type": "code",
   "execution_count": null,
   "metadata": {},
   "outputs": [],
   "source": [
    "utils.plot(\n",
    "    go.Scatter(x=dataset.index, y=dataset['column_name']),\n",
    "    go.Scatter(x=dataset.index[-FUTURE_PREDICTIONS_SIZE:], y=predictions.flatten()),\n",
    ")"
   ]
  },
  {
   "cell_type": "markdown",
   "metadata": {},
   "source": [
    "## Saving a Model\n",
    "\n",
    "See:\n",
    "* [SAVING AND LOADING MODELS](https://pytorch.org/tutorials/beginner/saving_loading_models.html)\n",
    "* [SAVING AND LOADING MODELS FOR INFERENCE IN PYTORCH](https://pytorch.org/tutorials/recipes/recipes/saving_and_loading_models_for_inference.html)\n",
    "* [TORCH.ONNX](https://pytorch.org/docs/stable/onnx.html)\n",
    "* [ONNX](https://onnx.ai/)"
   ]
  },
  {
   "cell_type": "code",
   "execution_count": null,
   "metadata": {},
   "outputs": [],
   "source": [
    "torch.save(model.state_dict(), 'model.pth')"
   ]
  }
 ],
 "metadata": {
  "language_info": {
   "codemirror_mode": {
    "name": "ipython",
    "version": 3
   },
   "file_extension": ".py",
   "mimetype": "text/x-python",
   "name": "python",
   "nbconvert_exporter": "python",
   "pygments_lexer": "ipython3",
   "version": 3
  },
  "orig_nbformat": 2
 },
 "nbformat": 4,
 "nbformat_minor": 2
}